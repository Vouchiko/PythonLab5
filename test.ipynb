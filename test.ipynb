{
 "cells": [
  {
   "cell_type": "code",
   "execution_count": null,
   "metadata": {
    "pycharm": {
     "is_executing": true
    }
   },
   "outputs": [],
   "source": [
    "import torch\n",
    "import torch.nn as nn\n",
    "import torch\n",
    "import torch.optim as optim\n",
    "import torch.nn.functional as F\n",
    "\n",
    "from torchvision import datasets, models, transforms\n",
    "from torch.utils.data import DataLoader, Dataset\n",
    "\n",
    "from sklearn.model_selection import train_test_split\n",
    "\n",
    "import numpy as np\n",
    "import pandas as pd\n",
    "import matplotlib.pyplot as plt\n",
    "import cv2\n",
    "import os\n",
    "import glob\n",
    "import random\n",
    "\n",
    "learning_rate = 0.001\n",
    "batch_size = 10\n",
    "epochs = 10\n",
    "\n",
    "device = 'cuda' if torch.cuda.is_available() else 'cpu'\n",
    "\n",
    "torch.manual_seed(1234)\n",
    "if device =='cuda':\n",
    "    torch.cuda.manual_seed_all(1234)"
   ]
  },
  {
   "cell_type": "code",
   "execution_count": null,
   "outputs": [],
   "source": [
    "train_path = '/Users/vouchiko/PycharmProjects/PythonLab2/dataset-copy/train'\n",
    "test_path = '/Users/vouchiko/PycharmProjects/PythonLab2/dataset-copy/test'\n",
    "val_path = '/Users/vouchiko/PycharmProjects/PythonLab2/dataset-copy/val'\n",
    "\n",
    "path1 = \"Brown bear annotation\"\n",
    "path2 = \"Polar bear annotation\"\n",
    "dfs = []\n",
    "tmp = pd.read_csv(path1, sep=',', header=None)\n",
    "dfs.append(tmp)\n",
    "tmp = pd.read_csv(path2, sep=',', header=None)\n",
    "dfs.append(tmp)\n",
    "df = pd.concat(dfs)\n",
    "df.drop(1, axis=1, inplace=True)\n",
    "df.rename(columns={0: 'absolute_way', 2: 'class_img'}, inplace=True)\n",
    "df.reset_index(inplace=True)\n",
    "\n",
    "if not os.path.isdir(train_path):\n",
    "    os.mkdir(train_path)\n",
    "\n",
    "if not os.path.isdir(test_path):\n",
    "    os.mkdir(test_path)\n",
    "\n",
    "if not os.path.isdir(val_path):\n",
    "    os.mkdir(val_path)\n",
    "\n",
    "def load_train(df: pd.core.frame.DataFrame, path: str, i: int) -> None:\n",
    "\n",
    "    image_path = df.absolute_way[i]\n",
    "    image = cv2.imread(image_path)\n",
    "    cv2.imwrite(os.path.join(path, f'{df.class_img[i]}.{i}.jpg'), image)\n",
    "\n",
    "\n",
    "def load_val(df: pd.core.frame.DataFrame, path: str, i: int) -> None:\n",
    "\n",
    "    image_path = df.absolute_way[i]\n",
    "    image = cv2.imread(image_path)\n",
    "    cv2.imwrite(os.path.join(path, f'{i}.jpg'), image)\n",
    "\n",
    "def load_test(df: pd.core.frame.DataFrame, path: str, i: int) -> None:\n",
    "    image_path = df.absolute_way[i]\n",
    "    image = cv2.imread(image_path)\n",
    "    cv2.imwrite(os.path.join(path, f'{i}.jpg'), image)\n",
    "\n",
    "\n",
    "for i in range(588):\n",
    "    load_train(df, train_path, i)\n",
    "\n",
    "for i in range(588, 594):\n",
    "    load_test(df, test_path, i)\n",
    "\n",
    "for i in range(594, 600):\n",
    "   load_train(df, val_path, i)\n",
    "\n",
    "for i in range(600, 1188):\n",
    "    load_train(df, train_path, i)\n",
    "\n",
    "for i in range(1188, 1329):\n",
    "    load_test(df, test_path, i)\n",
    "\n",
    "for i in range(1329, 1470):\n",
    "    load_train(df, val_path, i)\n",
    "\n",
    "\n",
    "train_list = glob.glob(os.path.join(train_path, '*.jpg'))\n",
    "test_list = glob.glob(os.path.join(test_path, '*.jpg'))\n",
    "\n",
    "train_list, val_list = train_test_split(train_list, test_size=0.1)\n"
   ],
   "metadata": {
    "collapsed": false,
    "pycharm": {
     "is_executing": true
    }
   }
  },
  {
   "cell_type": "code",
   "execution_count": null,
   "outputs": [],
   "source": [
    "random_idx = np.random.randint(1,200,size=10)\n",
    "\n",
    "fig = plt.figure()\n",
    "i=1\n",
    "for idx in random_idx:\n",
    "    ax = fig.add_subplot(2,5,i)\n",
    "    img = cv2.imread(train_list[idx])\n",
    "    plt.imshow(cv2.cvtColor(img, cv2.COLOR_BGR2RGB))\n",
    "    i+=1\n",
    "\n",
    "plt.show()\n"
   ],
   "metadata": {
    "collapsed": false
   }
  },
  {
   "cell_type": "code",
   "execution_count": null,
   "outputs": [],
   "source": [
    "class ConvNet(nn.Module):\n",
    "    def __init__(self):\n",
    "        super(ConvNet,self).__init__()\n",
    "\n",
    "        self.layer1 = nn.Sequential(\n",
    "            nn.Conv2d(3,16,kernel_size=3, padding=0,stride=2),\n",
    "            nn.BatchNorm2d(16),\n",
    "            nn.ReLU(),\n",
    "            nn.MaxPool2d(2)\n",
    "        )\n",
    "\n",
    "        self.layer2 = nn.Sequential(\n",
    "            nn.Conv2d(16,32, kernel_size=3, padding=0, stride=2),\n",
    "            nn.BatchNorm2d(32),\n",
    "            nn.ReLU(),\n",
    "            nn.MaxPool2d(2)\n",
    "            )\n",
    "\n",
    "        self.layer3 = nn.Sequential(\n",
    "            nn.Conv2d(32,64, kernel_size=3, padding=0, stride=2),\n",
    "            nn.BatchNorm2d(64),\n",
    "            nn.ReLU(),\n",
    "            nn.MaxPool2d(2)\n",
    "        )\n",
    "\n",
    "\n",
    "        self.fc1 = nn.Linear(3*3*64,10)\n",
    "        self.dropout = nn.Dropout(0.5)\n",
    "        self.fc2 = nn.Linear(10,2)\n",
    "        self.relu = nn.ReLU()\n",
    "\n",
    "\n",
    "    def forward(self,x):\n",
    "        out = self.layer1(x)\n",
    "        out = self.layer2(out)\n",
    "        out = self.layer3(out)\n",
    "        out = out.view(out.size(0),-1)\n",
    "        out = self.relu(self.fc1(out))\n",
    "        out = self.fc2(out)\n",
    "        return out\n",
    "\n",
    "model = ConvNet().to(device)\n",
    "model.train()\n",
    "criterion = nn.CrossEntropyLoss()\n",
    "optimizer = torch.optim.Adam(model.parameters(), lr=learning_rate)\n"
   ],
   "metadata": {
    "collapsed": false,
    "pycharm": {
     "is_executing": true
    }
   }
  },
  {
   "cell_type": "code",
   "execution_count": null,
   "outputs": [],
   "source": [],
   "metadata": {
    "collapsed": false
   }
  }
 ],
 "metadata": {
  "kernelspec": {
   "display_name": ".venv",
   "language": "python",
   "name": "python3"
  },
  "language_info": {
   "codemirror_mode": {
    "name": "ipython",
    "version": 3
   },
   "file_extension": ".py",
   "mimetype": "text/x-python",
   "name": "python",
   "nbconvert_exporter": "python",
   "pygments_lexer": "ipython3",
   "version": "3.10.9"
  },
  "orig_nbformat": 4,
  "vscode": {
   "interpreter": {
    "hash": "91fe822437af9e4e50e01b272a3b69bb14595a9be4e9f4d0b305d4b696c57c9e"
   }
  }
 },
 "nbformat": 4,
 "nbformat_minor": 2
}
